{
 "cells": [
  {
   "cell_type": "code",
   "execution_count": null,
   "metadata": {},
   "outputs": [],
   "source": [
    "import pandas as pd\n",
    "\n",
    "data_filename = 'winter_wheat_yield.csv'\n",
    "\n",
    "weather_dir = './WEATHER-DATA--v01/'\n",
    "wdtemplate = r'weather-data-for-index__{padded}.csv'\n",
    "\n",
    "total_data = pd.read_csv('./winter_wheat_yield.csv')\n",
    "print(total_data.shape)\n",
    "print()\n",
    "\n",
    "w_df = {}\n",
    "for i in range(0,len(total_data)):\n",
    "    padded = str(i).zfill(4)\n",
    "    w_df[i] = pd.read_csv(weather_dir + wdtemplate.format(padded=padded))\n",
    "    # Want to have a name for the index of my dataframe\n",
    "    w_df[i].rename(columns={'Unnamed: 0': 'date'}, \n",
    "                   inplace=True)\n",
    "    # w_df[i] = w_df[i].rename_axis(index='DATE')\n",
    "    \n",
    "print()\n",
    "print(w_df[4].shape)\n",
    "print(w_df[4].head())"
   ]
  },
  {
   "cell_type": "code",
   "execution_count": null,
   "metadata": {},
   "outputs": [],
   "source": [
    "def create_weekly_df(df):\n",
    "    df1 = df.copy()\n",
    "    # convert index to datetime format    \n",
    "    df1.index = pd.to_datetime(df['date'], format='%Y%m%d')\n",
    "    # use 'M' for monthly, use 'W' for weekly\n",
    "    df1_weekly = df1.resample('W').agg({'T2M_MAX':'mean',\n",
    "                                       'T2M_MIN':'mean',\n",
    "                                       'PRECTOTCORR':'sum',\n",
    "                                       'GWETROOT':'mean',\n",
    "                                       'EVPTRNS':'mean',\n",
    "                                       'ALLSKY_SFC_PAR_TOT':'sum',\n",
    "                                       'HDD10':'mean',\n",
    "                                       'SNODP':'mean'})    \n",
    "\n",
    "    # convert index back to string format YYYYMM\n",
    "    df1_weekly.index = df1_weekly.index.strftime('%Y%m%d')\n",
    "    \n",
    "    return df1_weekly\n",
    "\n",
    "\n",
    "print(create_weekly_df(w_df[4]).head(50))"
   ]
  },
  {
   "cell_type": "code",
   "execution_count": null,
   "metadata": {},
   "outputs": [],
   "source": [
    "import json\n",
    "\n",
    "df_t0 = w_df[4]\n",
    "cols_narrow = df_t0.columns.values.tolist()[1:]\n",
    "print(cols_narrow)\n",
    "\n",
    "print()\n",
    "\n",
    "df_t1 = create_weekly_df(df_t0)     # dfw['0001']\n",
    "# print(df_t1.head())\n",
    "\n",
    "cols_wide = []\n",
    "for i in range(0,len(df_t1)):\n",
    "    row = df_t1.iloc[i]\n",
    "    # print(row)\n",
    "    # can't use date, because it has year built in, and weeks start on different numbers...\n",
    "    week_id = 'week_' + str(i).zfill(2)\n",
    "    # print(date)\n",
    "    for c in cols_narrow:\n",
    "        cols_wide.append(week_id + '__' + c)\n",
    "        \n",
    "print(cols_wide)\n",
    "print(len(cols_wide))"
   ]
  },
  {
   "cell_type": "code",
   "execution_count": null,
   "metadata": {},
   "outputs": [],
   "source": [
    "print(w_df[0].columns.tolist()[1:])\n",
    "print(w_df[0].shape)\n",
    "print(create_weekly_df(w_df[0]).shape)\n",
    "\n",
    "def create_weather_seq_for_weekly(dfw):\n",
    "    seq = []\n",
    "    for i in range(0,len(dfw)):\n",
    "        for c in cols_narrow:\n",
    "            seq.append(dfw.iloc[i][c])\n",
    "    return seq\n",
    "\n",
    "# sanity check\n",
    "dfw = create_weekly_df(w_df[0])\n",
    "print(dfw.head(10))\n",
    "\n",
    "seqw = create_weather_seq_for_weekly(dfw)\n",
    "print(json.dumps(seqw, indent=4))"
   ]
  },
  {
   "cell_type": "code",
   "execution_count": null,
   "metadata": {},
   "outputs": [],
   "source": [
    "import time\n",
    "\n",
    "u_df = {}\n",
    "dfw = {}\n",
    "seqw = {}\n",
    "\n",
    "\n",
    "for i in range(0,len(total_data)):\n",
    "    padded = str(i).zfill(4)\n",
    "    # print(padded)\n",
    "    u_df[padded] = pd.read_csv(weather_dir + wdtemplate.format(padded=padded))\n",
    "    # Want to have a name for the index of my dataframe\n",
    "    u_df[padded].rename(columns={'Unnamed: 0': 'date'}, \n",
    "                   inplace=True)\n",
    "    \n",
    "    dfw[padded] = create_weekly_df(u_df[padded])\n",
    "    # print(dfw.head())\n",
    "\n",
    "    seqw[i] = create_weather_seq_for_weekly(dfw[padded])\n",
    "    # print(json.dumps(dictw, indent=4)\n",
    "\n",
    "    # introducing a small occassional sleep because my python kernel kept complaining about\n",
    "    # exceeding some I/O threshold\n",
    "    # if i % 30 == 0:\n",
    "    #     time.sleep(0.05)\n",
    "        \n",
    "    # if i > 4000 and i % 100 == 0:\n",
    "    #     time.sleep(0.5)\n",
    "    \n",
    "    if i % 100 == 0:\n",
    "        print('Completed processing of index ', i)\n",
    "    \n",
    "# sanity check\n",
    "print(print(json.dumps(seqw, indent=4)))"
   ]
  },
  {
   "cell_type": "code",
   "execution_count": null,
   "metadata": {},
   "outputs": [],
   "source": [
    "\n",
    "#for i in seqw:\n",
    "#    if len(seqw[i]) != 248:\n",
    "#        print(i)\n",
    "#        print(seqw[i])\n",
    "\n",
    "\n",
    "#print(len(seqw[15]))\n",
    "#print(dfw['0000'].shape)\n",
    "print(len(cols_wide))\n",
    "print(len(total_data))\n",
    "print(len(seqw[0]))\n",
    "print()\n",
    "\n",
    "df_wide_weather_weekly_prelim = pd.DataFrame.from_dict(seqw, orient='index', columns=cols_wide)\n",
    "\n",
    "print(df_wide_weather_weekly_prelim.shape)\n",
    "print()\n",
    "print(df_wide_weather_weekly_prelim.head())\n"
   ]
  },
  {
   "cell_type": "code",
   "execution_count": null,
   "metadata": {},
   "outputs": [],
   "source": [
    "week_31_cols = ['week_31__T2M_MAX', 'week_31__T2M_MIN', 'week_31__PRECTOTCORR', 'week_31__GWETROOT', 'week_31__EVPTRNS', 'week_31__ALLSKY_SFC_PAR_TOT', 'week_31__HDD10', 'week_31__SNODP']\n",
    "\n",
    "df_wide_weather_weekly = df_wide_weather_weekly_prelim.drop(columns=week_31_cols)\n",
    "\n",
    "print()\n",
    "print(df_wide_weather_weekly.shape)\n",
    "print(df_wide_weather_weekly.head())"
   ]
  },
  {
   "cell_type": "code",
   "execution_count": null,
   "metadata": {},
   "outputs": [],
   "source": [
    "print(df_wide_weather_weekly)\n",
    "print(total_data)"
   ]
  },
  {
   "cell_type": "code",
   "execution_count": null,
   "metadata": {},
   "outputs": [],
   "source": [
    "weather_yield_data = pd.concat([total_data, df_wide_weather_weekly], axis='columns')\n",
    "\n",
    "print(weather_yield_data)\n",
    "\n",
    "weather_yield_data.to_csv(\"./weekly_weather_data.csv\", index=False)"
   ]
  }
 ],
 "metadata": {
  "kernelspec": {
   "display_name": "Python 3",
   "language": "python",
   "name": "python3"
  },
  "language_info": {
   "codemirror_mode": {
    "name": "ipython",
    "version": 3
   },
   "file_extension": ".py",
   "mimetype": "text/x-python",
   "name": "python",
   "nbconvert_exporter": "python",
   "pygments_lexer": "ipython3",
   "version": "3.10.6"
  },
  "orig_nbformat": 4
 },
 "nbformat": 4,
 "nbformat_minor": 2
}
